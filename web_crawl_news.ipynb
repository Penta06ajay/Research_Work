{
 "cells": [
  {
   "cell_type": "code",
   "execution_count": 1,
   "id": "01d56c8e",
   "metadata": {},
   "outputs": [
    {
     "name": "stdout",
     "output_type": "stream",
     "text": [
      "105\n",
      "210\n",
      "315\n",
      "420\n",
      "525\n"
     ]
    },
    {
     "ename": "NoSuchWindowException",
     "evalue": "Message: no such window: target window already closed\nfrom unknown error: web view not found\n  (Session info: chrome=115.0.5790.171)\nStacktrace:\nBacktrace:\n\tGetHandleVerifier [0x00EBA813+48355]\n\t(No symbol) [0x00E4C4B1]\n\t(No symbol) [0x00D55358]\n\t(No symbol) [0x00D3D293]\n\t(No symbol) [0x00D9E37B]\n\t(No symbol) [0x00DAC473]\n\t(No symbol) [0x00D9A536]\n\t(No symbol) [0x00D782DC]\n\t(No symbol) [0x00D793DD]\n\tGetHandleVerifier [0x0111AABD+2539405]\n\tGetHandleVerifier [0x0115A78F+2800735]\n\tGetHandleVerifier [0x0115456C+2775612]\n\tGetHandleVerifier [0x00F451E0+616112]\n\t(No symbol) [0x00E55F8C]\n\t(No symbol) [0x00E52328]\n\t(No symbol) [0x00E5240B]\n\t(No symbol) [0x00E44FF7]\n\tBaseThreadInitThunk [0x76FE7D59+25]\n\tRtlInitializeExceptionChain [0x77DFB79B+107]\n\tRtlClearBits [0x77DFB71F+191]\n",
     "output_type": "error",
     "traceback": [
      "\u001b[1;31m---------------------------------------------------------------------------\u001b[0m",
      "\u001b[1;31mNoSuchWindowException\u001b[0m                     Traceback (most recent call last)",
      "\u001b[1;32mC:\\Users\\AJAYKU~1\\AppData\\Local\\Temp/ipykernel_25436/203026937.py\u001b[0m in \u001b[0;36m<module>\u001b[1;34m\u001b[0m\n\u001b[0;32m     21\u001b[0m \u001b[1;33m\u001b[0m\u001b[0m\n\u001b[0;32m     22\u001b[0m \u001b[1;32mfor\u001b[0m \u001b[0mj\u001b[0m \u001b[1;32min\u001b[0m \u001b[0mcate_list\u001b[0m\u001b[1;33m:\u001b[0m\u001b[1;33m\u001b[0m\u001b[1;33m\u001b[0m\u001b[0m\n\u001b[1;32m---> 23\u001b[1;33m     \u001b[0mu\u001b[0m \u001b[1;33m=\u001b[0m \u001b[0mdriver\u001b[0m\u001b[1;33m.\u001b[0m\u001b[0mget\u001b[0m\u001b[1;33m(\u001b[0m\u001b[1;34mf\"https://www.tv9marathi.com/{j}\"\u001b[0m\u001b[1;33m)\u001b[0m\u001b[1;33m\u001b[0m\u001b[1;33m\u001b[0m\u001b[0m\n\u001b[0m\u001b[0;32m     24\u001b[0m     \u001b[0mtime\u001b[0m\u001b[1;33m.\u001b[0m\u001b[0msleep\u001b[0m\u001b[1;33m(\u001b[0m\u001b[1;36m1\u001b[0m\u001b[1;33m)\u001b[0m\u001b[1;33m\u001b[0m\u001b[1;33m\u001b[0m\u001b[0m\n\u001b[0;32m     25\u001b[0m \u001b[1;33m\u001b[0m\u001b[0m\n",
      "\u001b[1;32mC:\\ProgramData\\Anaconda3\\lib\\site-packages\\selenium\\webdriver\\remote\\webdriver.py\u001b[0m in \u001b[0;36mget\u001b[1;34m(self, url)\u001b[0m\n\u001b[0;32m    353\u001b[0m     \u001b[1;32mdef\u001b[0m \u001b[0mget\u001b[0m\u001b[1;33m(\u001b[0m\u001b[0mself\u001b[0m\u001b[1;33m,\u001b[0m \u001b[0murl\u001b[0m\u001b[1;33m:\u001b[0m \u001b[0mstr\u001b[0m\u001b[1;33m)\u001b[0m \u001b[1;33m->\u001b[0m \u001b[1;32mNone\u001b[0m\u001b[1;33m:\u001b[0m\u001b[1;33m\u001b[0m\u001b[1;33m\u001b[0m\u001b[0m\n\u001b[0;32m    354\u001b[0m         \u001b[1;34m\"\"\"Loads a web page in the current browser session.\"\"\"\u001b[0m\u001b[1;33m\u001b[0m\u001b[1;33m\u001b[0m\u001b[0m\n\u001b[1;32m--> 355\u001b[1;33m         \u001b[0mself\u001b[0m\u001b[1;33m.\u001b[0m\u001b[0mexecute\u001b[0m\u001b[1;33m(\u001b[0m\u001b[0mCommand\u001b[0m\u001b[1;33m.\u001b[0m\u001b[0mGET\u001b[0m\u001b[1;33m,\u001b[0m \u001b[1;33m{\u001b[0m\u001b[1;34m\"url\"\u001b[0m\u001b[1;33m:\u001b[0m \u001b[0murl\u001b[0m\u001b[1;33m}\u001b[0m\u001b[1;33m)\u001b[0m\u001b[1;33m\u001b[0m\u001b[1;33m\u001b[0m\u001b[0m\n\u001b[0m\u001b[0;32m    356\u001b[0m \u001b[1;33m\u001b[0m\u001b[0m\n\u001b[0;32m    357\u001b[0m     \u001b[1;33m@\u001b[0m\u001b[0mproperty\u001b[0m\u001b[1;33m\u001b[0m\u001b[1;33m\u001b[0m\u001b[0m\n",
      "\u001b[1;32mC:\\ProgramData\\Anaconda3\\lib\\site-packages\\selenium\\webdriver\\remote\\webdriver.py\u001b[0m in \u001b[0;36mexecute\u001b[1;34m(self, driver_command, params)\u001b[0m\n\u001b[0;32m    344\u001b[0m         \u001b[0mresponse\u001b[0m \u001b[1;33m=\u001b[0m \u001b[0mself\u001b[0m\u001b[1;33m.\u001b[0m\u001b[0mcommand_executor\u001b[0m\u001b[1;33m.\u001b[0m\u001b[0mexecute\u001b[0m\u001b[1;33m(\u001b[0m\u001b[0mdriver_command\u001b[0m\u001b[1;33m,\u001b[0m \u001b[0mparams\u001b[0m\u001b[1;33m)\u001b[0m\u001b[1;33m\u001b[0m\u001b[1;33m\u001b[0m\u001b[0m\n\u001b[0;32m    345\u001b[0m         \u001b[1;32mif\u001b[0m \u001b[0mresponse\u001b[0m\u001b[1;33m:\u001b[0m\u001b[1;33m\u001b[0m\u001b[1;33m\u001b[0m\u001b[0m\n\u001b[1;32m--> 346\u001b[1;33m             \u001b[0mself\u001b[0m\u001b[1;33m.\u001b[0m\u001b[0merror_handler\u001b[0m\u001b[1;33m.\u001b[0m\u001b[0mcheck_response\u001b[0m\u001b[1;33m(\u001b[0m\u001b[0mresponse\u001b[0m\u001b[1;33m)\u001b[0m\u001b[1;33m\u001b[0m\u001b[1;33m\u001b[0m\u001b[0m\n\u001b[0m\u001b[0;32m    347\u001b[0m             \u001b[0mresponse\u001b[0m\u001b[1;33m[\u001b[0m\u001b[1;34m\"value\"\u001b[0m\u001b[1;33m]\u001b[0m \u001b[1;33m=\u001b[0m \u001b[0mself\u001b[0m\u001b[1;33m.\u001b[0m\u001b[0m_unwrap_value\u001b[0m\u001b[1;33m(\u001b[0m\u001b[0mresponse\u001b[0m\u001b[1;33m.\u001b[0m\u001b[0mget\u001b[0m\u001b[1;33m(\u001b[0m\u001b[1;34m\"value\"\u001b[0m\u001b[1;33m,\u001b[0m \u001b[1;32mNone\u001b[0m\u001b[1;33m)\u001b[0m\u001b[1;33m)\u001b[0m\u001b[1;33m\u001b[0m\u001b[1;33m\u001b[0m\u001b[0m\n\u001b[0;32m    348\u001b[0m             \u001b[1;32mreturn\u001b[0m \u001b[0mresponse\u001b[0m\u001b[1;33m\u001b[0m\u001b[1;33m\u001b[0m\u001b[0m\n",
      "\u001b[1;32mC:\\ProgramData\\Anaconda3\\lib\\site-packages\\selenium\\webdriver\\remote\\errorhandler.py\u001b[0m in \u001b[0;36mcheck_response\u001b[1;34m(self, response)\u001b[0m\n\u001b[0;32m    243\u001b[0m                 \u001b[0malert_text\u001b[0m \u001b[1;33m=\u001b[0m \u001b[0mvalue\u001b[0m\u001b[1;33m[\u001b[0m\u001b[1;34m\"alert\"\u001b[0m\u001b[1;33m]\u001b[0m\u001b[1;33m.\u001b[0m\u001b[0mget\u001b[0m\u001b[1;33m(\u001b[0m\u001b[1;34m\"text\"\u001b[0m\u001b[1;33m)\u001b[0m\u001b[1;33m\u001b[0m\u001b[1;33m\u001b[0m\u001b[0m\n\u001b[0;32m    244\u001b[0m             \u001b[1;32mraise\u001b[0m \u001b[0mexception_class\u001b[0m\u001b[1;33m(\u001b[0m\u001b[0mmessage\u001b[0m\u001b[1;33m,\u001b[0m \u001b[0mscreen\u001b[0m\u001b[1;33m,\u001b[0m \u001b[0mstacktrace\u001b[0m\u001b[1;33m,\u001b[0m \u001b[0malert_text\u001b[0m\u001b[1;33m)\u001b[0m  \u001b[1;31m# type: ignore[call-arg]  # mypy is not smart enough here\u001b[0m\u001b[1;33m\u001b[0m\u001b[1;33m\u001b[0m\u001b[0m\n\u001b[1;32m--> 245\u001b[1;33m         \u001b[1;32mraise\u001b[0m \u001b[0mexception_class\u001b[0m\u001b[1;33m(\u001b[0m\u001b[0mmessage\u001b[0m\u001b[1;33m,\u001b[0m \u001b[0mscreen\u001b[0m\u001b[1;33m,\u001b[0m \u001b[0mstacktrace\u001b[0m\u001b[1;33m)\u001b[0m\u001b[1;33m\u001b[0m\u001b[1;33m\u001b[0m\u001b[0m\n\u001b[0m",
      "\u001b[1;31mNoSuchWindowException\u001b[0m: Message: no such window: target window already closed\nfrom unknown error: web view not found\n  (Session info: chrome=115.0.5790.171)\nStacktrace:\nBacktrace:\n\tGetHandleVerifier [0x00EBA813+48355]\n\t(No symbol) [0x00E4C4B1]\n\t(No symbol) [0x00D55358]\n\t(No symbol) [0x00D3D293]\n\t(No symbol) [0x00D9E37B]\n\t(No symbol) [0x00DAC473]\n\t(No symbol) [0x00D9A536]\n\t(No symbol) [0x00D782DC]\n\t(No symbol) [0x00D793DD]\n\tGetHandleVerifier [0x0111AABD+2539405]\n\tGetHandleVerifier [0x0115A78F+2800735]\n\tGetHandleVerifier [0x0115456C+2775612]\n\tGetHandleVerifier [0x00F451E0+616112]\n\t(No symbol) [0x00E55F8C]\n\t(No symbol) [0x00E52328]\n\t(No symbol) [0x00E5240B]\n\t(No symbol) [0x00E44FF7]\n\tBaseThreadInitThunk [0x76FE7D59+25]\n\tRtlInitializeExceptionChain [0x77DFB79B+107]\n\tRtlClearBits [0x77DFB71F+191]\n"
     ]
    }
   ],
   "source": [
    "import requests\n",
    "from bs4 import BeautifulSoup\n",
    "import pandas as pd\n",
    "\n",
    "from selenium import webdriver\n",
    "from selenium.webdriver.chrome.service import Service\n",
    "from selenium.webdriver.common.by import By\n",
    "from selenium.webdriver.common.keys import Keys\n",
    "import time\n",
    "\n",
    "count = 8\n",
    "Link = []\n",
    "label = []\n",
    "\n",
    "#l = ['entertainment', 'maharashtra', 'crime', \"sports\", 'business', 'automobile', 'technology']\n",
    "cate_list = ['automobile','international','health','entertainment', 'crime', \"sports\", 'business', 'technology', 'maharashtra']\n",
    "\n",
    "s = Service(\"C:/Users/Ajay Kumbhalwar/Desktop/chrooo/chromedriver.exe\")\n",
    "\n",
    "driver = webdriver.Chrome(service=s)\n",
    "\n",
    "for j in cate_list:\n",
    "    u = driver.get(f\"https://www.tv9marathi.com/{j}\")\n",
    "    time.sleep(1)\n",
    "\n",
    "\n",
    "    while count > 0:\n",
    "        load_btn = driver.find_element(by = By.XPATH, value = \"/html/body/div[6]/div/div[1]/div[2]/div[2]/button\")\n",
    "        load_btn.click()\n",
    "        time.sleep(1)\n",
    "        count = count - 1\n",
    "\n",
    "        if count == 1:\n",
    "            html = driver.page_source\n",
    "\n",
    "\n",
    "    with open(f\"tv9_{j}.html\", 'w', encoding=\"utf-8\") as f:\n",
    "        f.write(html)\n",
    "\n",
    "\n",
    "\n",
    "    with open(f'tv9_{j}.html', \"r\", encoding=\"utf-8\") as f:\n",
    "\n",
    "        r = f.read()\n",
    "        soup = BeautifulSoup(r , 'html.parser')\n",
    "\n",
    "        content_ref = soup.find('div', attrs={\"class\":\"wrapper_section\"}).find_all(\"div\", attrs={\"class\":\"caption\"})\n",
    "        content_ref_1 = soup.find('div', attrs={\"class\":\"wrapper_section\"}).find_all(\"div\", attrs={\"class\":\"imgThumb\"})\n",
    "        for i in content_ref:\n",
    "            Link.append(i.find('a').get('href'))\n",
    "            \n",
    "            label.append(j)\n",
    "\n",
    "        for i in content_ref_1:\n",
    "            Link.append(i.find('a').get('href'))\n",
    "            label.append(j)\n",
    "\n",
    "        print(len(label))"
   ]
  },
  {
   "cell_type": "code",
   "execution_count": 39,
   "id": "fdd47e04",
   "metadata": {},
   "outputs": [
    {
     "name": "stdout",
     "output_type": "stream",
     "text": [
      "international\n"
     ]
    }
   ],
   "source": [
    "print(label[220])\n"
   ]
  },
  {
   "cell_type": "code",
   "execution_count": 40,
   "id": "a1891cc1",
   "metadata": {},
   "outputs": [
    {
     "name": "stdout",
     "output_type": "stream",
     "text": [
      "1215\n"
     ]
    }
   ],
   "source": [
    "text = []\n",
    "news=[]\n",
    "for i in Link:\n",
    "    r = requests.get(i)\n",
    "    html = r.content\n",
    "\n",
    "    soup = BeautifulSoup(html, \"html.parser\")\n",
    "    ref = soup.find(\"div\", attrs={'class':\"ArticleBodyCont\"})\n",
    "    d = ref.find_all('p')\n",
    "    for j in d:\n",
    "        data_text = j.text.strip()\n",
    "        text.append(data_text)\n",
    "        corpus = ' '.join(text)\n",
    "    text = []\n",
    "    news.append(corpus)\n",
    "\n",
    "print(len(news))"
   ]
  },
  {
   "cell_type": "code",
   "execution_count": 41,
   "id": "2fee5a71",
   "metadata": {},
   "outputs": [],
   "source": [
    "def label_update(update_l):\n",
    "        if update_l == 'entertainment':\n",
    "            return(\"मनोरंजन\")\n",
    "        elif update_l == 'international':\n",
    "            return(\"दुनिया\")\n",
    "        elif update_l == 'crime':\n",
    "            return(\"अपराध\")\n",
    "        elif update_l == 'sports':\n",
    "            return(\"खेल\")\n",
    "        elif update_l == 'business':\n",
    "            return(\"व्यवसाय\")\n",
    "        elif update_l == 'automobile':\n",
    "            return(\"ऑटो\")\n",
    "        elif update_l == 'technology':\n",
    "            return(\"टेक्नोलॉजी\")\n",
    "        elif update_l == 'health':\n",
    "            return(\"हेल्थी\")\n",
    "        elif update_l == 'maharashtra':\n",
    "            return(\"देश\")\n",
    "    \n",
    "    "
   ]
  },
  {
   "cell_type": "code",
   "execution_count": 42,
   "id": "4d0d4f64",
   "metadata": {},
   "outputs": [],
   "source": [
    "import re\n",
    "\n",
    "up_label = []\n",
    "f_news = []\n",
    "up_news = []\n",
    "for i in news:\n",
    "    a = i.split()\n",
    "    for i in range(6,len(a)):\n",
    "        if bool(re.search(r\"[A-Za-z]\",a[i])) == True or bool(re.search(r\"[0-9]\", a[i])) == True:\n",
    "            continue\n",
    "        else:\n",
    "            up_news.append(a[i])\n",
    "            \n",
    "\n",
    "    f_news.append(\" \".join(up_news))\n",
    "    up_news = []\n",
    "    \n",
    "\n",
    "    "
   ]
  },
  {
   "cell_type": "code",
   "execution_count": 34,
   "id": "7937ea21",
   "metadata": {},
   "outputs": [
    {
     "name": "stdout",
     "output_type": "stream",
     "text": [
      "https://www.tv9marathi.com/photo-gallery/volvo-c40-recharge-new-electric-car-introduced-read-what-is-special-958928.html\n",
      "https://www.tv9marathi.com/photo-gallery/do-you-know-about-the-fastest-electric-bikes-in-india-find-out-958880.html\n",
      "https://www.tv9marathi.com/automobile/honda-has-come-up-with-a-unicorn-2023-to-compete-with-pulsar-and-apache-958788.html\n",
      "https://www.tv9marathi.com/photo-gallery/lexus-tx-unveiled-three-row-seven-seater-suvs-compete-with-mercedes-bmw-audi-957103.html\n",
      "https://www.tv9marathi.com/automobile/do-you-also-turn-on-the-ac-immediately-after-starting-the-car-car-ac-tips-956434.html\n",
      "https://www.tv9marathi.com/automobile/maruti-suzuki-engage-marutis-most-expensive-seven-seater-car-is-coming-on-july-5-what-will-be-the-price-955671.html\n",
      "https://www.tv9marathi.com/automobile/pod-taxi-a-unique-pod-taxi-service-similar-to-abu-dhabi-and-london-will-run-here-in-the-country-955662.html\n",
      "https://www.tv9marathi.com/automobile/honda-has-launched-a-new-scooter-with-car-like-features-and-a-budget-friendly-price-954945.html\n",
      "https://www.tv9marathi.com/automobile/the-car-will-run-without-a-driver-mercedes-benz-beats-tesla-for-californias-approval-of-automated-driving-tech-954737.html\n",
      "https://www.tv9marathi.com/automobile/a-discount-of-up-to-61-thousand-is-available-on-these-maruti-cars-take-advantage-of-this-opportunity-954149.html\n"
     ]
    }
   ],
   "source": [
    "for i in range(205,215):\n",
    "    print(Link[i])"
   ]
  },
  {
   "cell_type": "code",
   "execution_count": 47,
   "id": "ca3704a1",
   "metadata": {},
   "outputs": [],
   "source": [
    "up_label_1 = []\n",
    "for i in range(len(f_news)):\n",
    "    up_label_1.append(label_update(label[i]))"
   ]
  },
  {
   "cell_type": "code",
   "execution_count": 48,
   "id": "25c04f62",
   "metadata": {},
   "outputs": [
    {
     "name": "stdout",
     "output_type": "stream",
     "text": [
      "1215\n"
     ]
    }
   ],
   "source": [
    "print(len(up_label_1))"
   ]
  },
  {
   "cell_type": "code",
   "execution_count": 49,
   "id": "0705f66d",
   "metadata": {},
   "outputs": [],
   "source": [
    "demo_test = pd.DataFrame({\"Texts\": f_news, \"Label\": up_label_1})\n",
    "demo_test.to_csv(\"demo_marathi_test_16.csv\",mode = 'a', index = False, header = True,  encoding = \"utf-8\")"
   ]
  },
  {
   "cell_type": "code",
   "execution_count": 50,
   "id": "a55994d8",
   "metadata": {},
   "outputs": [
    {
     "data": {
      "text/html": [
       "<div>\n",
       "<style scoped>\n",
       "    .dataframe tbody tr th:only-of-type {\n",
       "        vertical-align: middle;\n",
       "    }\n",
       "\n",
       "    .dataframe tbody tr th {\n",
       "        vertical-align: top;\n",
       "    }\n",
       "\n",
       "    .dataframe thead th {\n",
       "        text-align: right;\n",
       "    }\n",
       "</style>\n",
       "<table border=\"1\" class=\"dataframe\">\n",
       "  <thead>\n",
       "    <tr style=\"text-align: right;\">\n",
       "      <th></th>\n",
       "      <th>Texts</th>\n",
       "      <th>Label</th>\n",
       "    </tr>\n",
       "  </thead>\n",
       "  <tbody>\n",
       "    <tr>\n",
       "      <th>0</th>\n",
       "      <td>ही भारतातील सर्वात मोठी कार विकणारी कंपनी आहे ...</td>\n",
       "      <td>ऑटो</td>\n",
       "    </tr>\n",
       "    <tr>\n",
       "      <th>1</th>\n",
       "      <td>होणे सामान्य आहे. पेट्रोल पंपावर फसवणुकीचे प्र...</td>\n",
       "      <td>ऑटो</td>\n",
       "    </tr>\n",
       "    <tr>\n",
       "      <th>2</th>\n",
       "      <td>आपल्या देशात मध्यमवर्गीयांच्या हातात पैसे आल्य...</td>\n",
       "      <td>ऑटो</td>\n",
       "    </tr>\n",
       "    <tr>\n",
       "      <th>3</th>\n",
       "      <td>खरेदी करणे हा अनेक प्रकारे फायदेशीर सौदा आहे, ...</td>\n",
       "      <td>ऑटो</td>\n",
       "    </tr>\n",
       "    <tr>\n",
       "      <th>4</th>\n",
       "      <td>किंवा विकणे हे खूप सोपे काम आहे. मात्र यानंतर ...</td>\n",
       "      <td>ऑटो</td>\n",
       "    </tr>\n",
       "    <tr>\n",
       "      <th>...</th>\n",
       "      <td>...</td>\n",
       "      <td>...</td>\n",
       "    </tr>\n",
       "    <tr>\n",
       "      <th>1210</th>\n",
       "      <td>भारतीय बाजारपेठेत आणखी एक नवीन बाईक आणणार आहे,...</td>\n",
       "      <td>देश</td>\n",
       "    </tr>\n",
       "    <tr>\n",
       "      <th>1211</th>\n",
       "      <td>लॉन्च होण्याची वाट पाहणाऱ्या ग्राहकांना आता प्...</td>\n",
       "      <td>देश</td>\n",
       "    </tr>\n",
       "    <tr>\n",
       "      <th>1212</th>\n",
       "      <td>अँड महिंद्राने पुन्हा एकदा आपल्या लोकप्रिय कार...</td>\n",
       "      <td>देश</td>\n",
       "    </tr>\n",
       "    <tr>\n",
       "      <th>1213</th>\n",
       "      <td>प्रतिक्षा संपली आहे. केटीएमने बाइकप्रेमींसाठी ...</td>\n",
       "      <td>देश</td>\n",
       "    </tr>\n",
       "    <tr>\n",
       "      <th>1214</th>\n",
       "      <td>कंपनी ह्युंदाई ने आपल्या वाहन पोर्टफोलिओला नवी...</td>\n",
       "      <td>देश</td>\n",
       "    </tr>\n",
       "  </tbody>\n",
       "</table>\n",
       "<p>1215 rows × 2 columns</p>\n",
       "</div>"
      ],
      "text/plain": [
       "                                                  Texts Label\n",
       "0     ही भारतातील सर्वात मोठी कार विकणारी कंपनी आहे ...   ऑटो\n",
       "1     होणे सामान्य आहे. पेट्रोल पंपावर फसवणुकीचे प्र...   ऑटो\n",
       "2     आपल्या देशात मध्यमवर्गीयांच्या हातात पैसे आल्य...   ऑटो\n",
       "3     खरेदी करणे हा अनेक प्रकारे फायदेशीर सौदा आहे, ...   ऑटो\n",
       "4     किंवा विकणे हे खूप सोपे काम आहे. मात्र यानंतर ...   ऑटो\n",
       "...                                                 ...   ...\n",
       "1210  भारतीय बाजारपेठेत आणखी एक नवीन बाईक आणणार आहे,...   देश\n",
       "1211  लॉन्च होण्याची वाट पाहणाऱ्या ग्राहकांना आता प्...   देश\n",
       "1212  अँड महिंद्राने पुन्हा एकदा आपल्या लोकप्रिय कार...   देश\n",
       "1213  प्रतिक्षा संपली आहे. केटीएमने बाइकप्रेमींसाठी ...   देश\n",
       "1214  कंपनी ह्युंदाई ने आपल्या वाहन पोर्टफोलिओला नवी...   देश\n",
       "\n",
       "[1215 rows x 2 columns]"
      ]
     },
     "execution_count": 50,
     "metadata": {},
     "output_type": "execute_result"
    }
   ],
   "source": [
    "import pandas as pd\n",
    "\n",
    "df = pd.read_csv(\"demo_marathi_test_16.csv\", encoding='utf-8')\n",
    "df"
   ]
  },
  {
   "cell_type": "code",
   "execution_count": 51,
   "id": "d7a5a7b8",
   "metadata": {},
   "outputs": [],
   "source": [
    "import string\n",
    "f_news1= []\n",
    "def remove_punctuation(input_string):\n",
    "    # Create a translation table to map each punctuation mark to None\n",
    "    translator = str.maketrans('', '', string.punctuation)\n",
    "    \n",
    "    # Use translate method to remove punctuation\n",
    "    cleaned_string = input_string.translate(translator)\n",
    "    \n",
    "    return cleaned_string\n",
    "\n",
    "# Test the function\n",
    "for i in f_news:\n",
    "    input_string = i\n",
    "    cleaned_string = remove_punctuation(input_string)\n",
    "    f_news1.append(cleaned_string)"
   ]
  },
  {
   "cell_type": "code",
   "execution_count": 52,
   "id": "cce225fa",
   "metadata": {},
   "outputs": [],
   "source": [
    "demo_test = pd.DataFrame({\"Texts\": f_news1, \"Label\": up_label_1})\n",
    "demo_test.to_csv(\"demo_marathi_test_17.csv\",mode = 'a', index = False, header = True,  encoding = \"utf-8\")"
   ]
  },
  {
   "cell_type": "code",
   "execution_count": 53,
   "id": "bc9dce2e",
   "metadata": {},
   "outputs": [
    {
     "data": {
      "text/html": [
       "<div>\n",
       "<style scoped>\n",
       "    .dataframe tbody tr th:only-of-type {\n",
       "        vertical-align: middle;\n",
       "    }\n",
       "\n",
       "    .dataframe tbody tr th {\n",
       "        vertical-align: top;\n",
       "    }\n",
       "\n",
       "    .dataframe thead th {\n",
       "        text-align: right;\n",
       "    }\n",
       "</style>\n",
       "<table border=\"1\" class=\"dataframe\">\n",
       "  <thead>\n",
       "    <tr style=\"text-align: right;\">\n",
       "      <th></th>\n",
       "      <th>Texts</th>\n",
       "      <th>Label</th>\n",
       "    </tr>\n",
       "  </thead>\n",
       "  <tbody>\n",
       "    <tr>\n",
       "      <th>0</th>\n",
       "      <td>ही भारतातील सर्वात मोठी कार विकणारी कंपनी आहे ...</td>\n",
       "      <td>ऑटो</td>\n",
       "    </tr>\n",
       "    <tr>\n",
       "      <th>1</th>\n",
       "      <td>होणे सामान्य आहे पेट्रोल पंपावर फसवणुकीचे प्रक...</td>\n",
       "      <td>ऑटो</td>\n",
       "    </tr>\n",
       "    <tr>\n",
       "      <th>2</th>\n",
       "      <td>आपल्या देशात मध्यमवर्गीयांच्या हातात पैसे आल्य...</td>\n",
       "      <td>ऑटो</td>\n",
       "    </tr>\n",
       "    <tr>\n",
       "      <th>3</th>\n",
       "      <td>खरेदी करणे हा अनेक प्रकारे फायदेशीर सौदा आहे प...</td>\n",
       "      <td>ऑटो</td>\n",
       "    </tr>\n",
       "    <tr>\n",
       "      <th>4</th>\n",
       "      <td>किंवा विकणे हे खूप सोपे काम आहे मात्र यानंतर ह...</td>\n",
       "      <td>ऑटो</td>\n",
       "    </tr>\n",
       "    <tr>\n",
       "      <th>...</th>\n",
       "      <td>...</td>\n",
       "      <td>...</td>\n",
       "    </tr>\n",
       "    <tr>\n",
       "      <th>1210</th>\n",
       "      <td>भारतीय बाजारपेठेत आणखी एक नवीन बाईक आणणार आहे ...</td>\n",
       "      <td>देश</td>\n",
       "    </tr>\n",
       "    <tr>\n",
       "      <th>1211</th>\n",
       "      <td>लॉन्च होण्याची वाट पाहणाऱ्या ग्राहकांना आता प्...</td>\n",
       "      <td>देश</td>\n",
       "    </tr>\n",
       "    <tr>\n",
       "      <th>1212</th>\n",
       "      <td>अँड महिंद्राने पुन्हा एकदा आपल्या लोकप्रिय कार...</td>\n",
       "      <td>देश</td>\n",
       "    </tr>\n",
       "    <tr>\n",
       "      <th>1213</th>\n",
       "      <td>प्रतिक्षा संपली आहे केटीएमने बाइकप्रेमींसाठी क...</td>\n",
       "      <td>देश</td>\n",
       "    </tr>\n",
       "    <tr>\n",
       "      <th>1214</th>\n",
       "      <td>कंपनी ह्युंदाई ने आपल्या वाहन पोर्टफोलिओला नवी...</td>\n",
       "      <td>देश</td>\n",
       "    </tr>\n",
       "  </tbody>\n",
       "</table>\n",
       "<p>1215 rows × 2 columns</p>\n",
       "</div>"
      ],
      "text/plain": [
       "                                                  Texts Label\n",
       "0     ही भारतातील सर्वात मोठी कार विकणारी कंपनी आहे ...   ऑटो\n",
       "1     होणे सामान्य आहे पेट्रोल पंपावर फसवणुकीचे प्रक...   ऑटो\n",
       "2     आपल्या देशात मध्यमवर्गीयांच्या हातात पैसे आल्य...   ऑटो\n",
       "3     खरेदी करणे हा अनेक प्रकारे फायदेशीर सौदा आहे प...   ऑटो\n",
       "4     किंवा विकणे हे खूप सोपे काम आहे मात्र यानंतर ह...   ऑटो\n",
       "...                                                 ...   ...\n",
       "1210  भारतीय बाजारपेठेत आणखी एक नवीन बाईक आणणार आहे ...   देश\n",
       "1211  लॉन्च होण्याची वाट पाहणाऱ्या ग्राहकांना आता प्...   देश\n",
       "1212  अँड महिंद्राने पुन्हा एकदा आपल्या लोकप्रिय कार...   देश\n",
       "1213  प्रतिक्षा संपली आहे केटीएमने बाइकप्रेमींसाठी क...   देश\n",
       "1214  कंपनी ह्युंदाई ने आपल्या वाहन पोर्टफोलिओला नवी...   देश\n",
       "\n",
       "[1215 rows x 2 columns]"
      ]
     },
     "execution_count": 53,
     "metadata": {},
     "output_type": "execute_result"
    }
   ],
   "source": [
    "import pandas as pd\n",
    "\n",
    "df = pd.read_csv(\"demo_marathi_test_17.csv\", encoding='utf-8')\n",
    "df"
   ]
  },
  {
   "cell_type": "code",
   "execution_count": null,
   "id": "d8e0206f",
   "metadata": {},
   "outputs": [],
   "source": []
  }
 ],
 "metadata": {
  "kernelspec": {
   "display_name": "Python 3 (ipykernel)",
   "language": "python",
   "name": "python3"
  },
  "language_info": {
   "codemirror_mode": {
    "name": "ipython",
    "version": 3
   },
   "file_extension": ".py",
   "mimetype": "text/x-python",
   "name": "python",
   "nbconvert_exporter": "python",
   "pygments_lexer": "ipython3",
   "version": "3.9.7"
  }
 },
 "nbformat": 4,
 "nbformat_minor": 5
}
